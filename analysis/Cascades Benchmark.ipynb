{
 "cells": [
  {
   "cell_type": "code",
   "execution_count": 6,
   "metadata": {
    "collapsed": true
   },
   "outputs": [],
   "source": [
    "%matplotlib inline\n",
    "import numpy as np\n",
    "import math\n",
    "import matplotlib.pyplot as plt\n",
    "import pandas as pd"
   ]
  },
  {
   "cell_type": "code",
   "execution_count": 24,
   "metadata": {
    "collapsed": true
   },
   "outputs": [],
   "source": [
    "def plot_data(filter_data, throughput_data, title):\n",
    "    f, axs = plt.subplots(1,2, figsize=(6,3))\n",
    "\n",
    "    ax = axs[0]\n",
    "    index = ['Simple','Markov','Racz','MaxEnt']\n",
    "    filter_data = [d / filter_data[0] for d in filter_data]\n",
    "    data = {'amount': filter_data}\n",
    "    trans = pd.DataFrame(data=data,index=index)\n",
    "\n",
    "    #Plot and label\n",
    "    my_plot = trans.plot(ax=ax, kind='bar', stacked=True, legend=None)\n",
    "    ax.set_ylabel('Fraction of queries hit')\n",
    "    ax.set_xlabel('Cascade Stage')\n",
    "    ax.set_xticklabels(labels=index, rotation='-45')\n",
    "    ax.yaxis.grid(True)\n",
    "    \n",
    "    pos_offset = 0.05\n",
    "    loop = 0\n",
    "    for i, row in trans.iterrows():\n",
    "        y = row['amount'] + pos_offset\n",
    "        my_plot.annotate(\"{:,.3f}\".format(np.absolute(row['amount'])),(loop,y),ha=\"center\")\n",
    "        loop += 1\n",
    "    my_plot.set_ylim(ymax=1.2)\n",
    "\n",
    "    ### Throughput ###\n",
    "    ax = axs[1]\n",
    "    index = ['Baseline','+Simple','+Markov','+Racz']\n",
    "    data = {'amount': throughput_data}\n",
    "    trans = pd.DataFrame(data=data,index=index)\n",
    "\n",
    "    trans.plot(ax=ax, kind='bar', legend=None)\n",
    "#     ax.set_yscale('log')\n",
    "    ax.set_ylabel('Throughput (QPS)')\n",
    "    ax.set_xlabel('Cascade Stage')\n",
    "    ax.set_xticklabels(labels=index, rotation='-45')\n",
    "    ax.yaxis.grid(True)\n",
    "\n",
    "    f.suptitle(title, y=1.02)\n",
    "    f.tight_layout()\n",
    "#     plt.savefig(\"cascade_{}_1.pdf\".format(title.lower()), bbox_inches='tight')\n",
    "    plt.show()\n",
    "    \n",
    "def plot_data_2(throughput_data, time_data, title):\n",
    "    f, axs = plt.subplots(1,2, figsize=(6,3))\n",
    "    \n",
    "    ax = axs[0]\n",
    "    index = ['Overall','Simple','Markov','Moment','MaxEnt']\n",
    "    data = {'amount': throughput_data}\n",
    "    trans = pd.DataFrame(data=data,index=index)\n",
    "\n",
    "    trans.plot(ax=ax, kind='bar', legend=None)\n",
    "    ax.set_yscale('log')\n",
    "    ax.set_ylabel('Stage throughput (QPS)')\n",
    "    ax.set_xlabel('Cascade Stage')\n",
    "    ax.set_xticklabels(labels=index, rotation='-45')\n",
    "    ax.yaxis.grid(True)\n",
    "\n",
    "    ### Time ###\n",
    "    ax = axs[1]\n",
    "    index = ['Simple','Markov','Moment','MaxEnt']\n",
    "    data = {'amount': time_data}\n",
    "    trans = pd.DataFrame(data=data,index=index)\n",
    "    \n",
    "    my_plot = trans.plot(ax=ax, kind='bar', stacked=True, legend=None)\n",
    "    ax.set_yscale('log')\n",
    "    ax.set_ylabel('Fraction of time spent')\n",
    "    ax.set_xlabel('Cascade Stage')\n",
    "    ax.set_xticklabels(labels=index, rotation='-45')\n",
    "    ax.yaxis.grid(True)\n",
    "    pos_offset = 1.2\n",
    "    loop = 0\n",
    "    for i, row in trans.iterrows():\n",
    "        y = row['amount'] * pos_offset\n",
    "        my_plot.annotate(\"{:,.3f}\".format(np.absolute(row['amount'])),(loop,y),ha=\"center\")\n",
    "        loop += 1\n",
    "    my_plot.set_ylim(ymax=3)\n",
    "    \n",
    "    f.suptitle(title, y=1.02)\n",
    "    f.tight_layout()\n",
    "#     plt.savefig(\"cascade_{}_2.pdf\".format(title.lower()), bbox_inches='tight')\n",
    "    plt.show()"
   ]
  },
  {
   "cell_type": "code",
   "execution_count": 3,
   "metadata": {
    "collapsed": true
   },
   "outputs": [],
   "source": [
    "# filter_data = [1488,722,109,70]\n",
    "# lesion_data = [285.047634,296.617673,3166.879373,4224.951114]\n",
    "# plot_data(filter_data, lesion_data, 'Wikipedia')"
   ]
  },
  {
   "cell_type": "code",
   "execution_count": 1,
   "metadata": {
    "collapsed": true
   },
   "outputs": [],
   "source": [
    "# throughput_data = [4639.714375, 6954083.420960, 776750.836191, 79027.311549, 223.457743]\n",
    "# time_data = [0.000538, 0.002758, 0.004212, 0.992492]\n",
    "# plot_data_2(throughput_data, time_data, 'Wikipedia')"
   ]
  },
  {
   "cell_type": "code",
   "execution_count": 2,
   "metadata": {
    "collapsed": true
   },
   "outputs": [],
   "source": [
    "# filter_data = [10096,-9394,-556,-77,69]\n",
    "# throughput_data = [4825.119526, 15039251.612519, 619012.683588, 45916.483577, 33.055502]\n",
    "# plot_data(filter_data, throughput_data, 'Milan')"
   ]
  },
  {
   "cell_type": "code",
   "execution_count": 140,
   "metadata": {},
   "outputs": [
    {
     "data": {
      "image/png": "[encoded data removed]",
      "text/plain": [
       "<matplotlib.figure.Figure at 0x1151d3588>"
      ]
     },
     "metadata": {},
     "output_type": "display_data"
    },
    {
     "data": {
      "image/png": "[encoded data removed]",
      "text/plain": [
       "<matplotlib.figure.Figure at 0x1151d35f8>"
      ]
     },
     "metadata": {},
     "output_type": "display_data"
    }
   ],
   "source": [
    "# results = pd.read_csv(\"../javamsketch/results/cascade_milan_1519110778.csv\")\n",
    "# results = pd.read_csv(\"../javamsketch/results/cascade_milan_1519168350.csv\")\n",
    "results = pd.read_csv(\"../javamsketch/results/cascade_milan_1519249176.csv\")\n",
    "cRow = results[(results['simple'] == True) & (results['markov'] == True) & (results['racz'] == True)]\n",
    "filter_data = cRow[['simple_hit', 'markov_hit', 'racz_hit', 'maxent_hit']].squeeze().tolist()\n",
    "lesion_data = results.loc[:,'overall_throughput'].dropna().tolist()\n",
    "throughput_data = cRow[['overall_throughput', 'simple_throughput', 'markov_throughput', 'racz_throughput', 'maxent_throughput']].squeeze().tolist()\n",
    "throughput_data = [float(t) for t in throughput_data]\n",
    "time_data = cRow[['simple_time', 'markov_time', 'racz_time', 'maxent_time']].squeeze().tolist()\n",
    "plot_data(filter_data, lesion_data, \"milan\")\n",
    "plot_data_2(throughput_data, time_data, \"milan\")"
   ]
  },
  {
   "cell_type": "code",
   "execution_count": 143,
   "metadata": {
    "collapsed": true
   },
   "outputs": [],
   "source": [
    "def plot_data_3(apl_times, merge_times, query_times, title):\n",
    "    f, axs = plt.subplots(1,1, figsize=(6,3))\n",
    "    ax = axs\n",
    "    x = range(6)\n",
    "    index = ['?', 'Baseline', '+Simple', '+Markov', '+Racz', 'Yahoo 1', 'Yahoo 2']\n",
    "#     data = {'amount': mb_data}\n",
    "#     trans = pd.DataFrame(data=data,index=index)\n",
    "    \n",
    "#     my_plot = trans.plot(ax=ax, kind='bar', stacked=True, legend=None)\n",
    "    \n",
    "#     p1 = plt.bar(x, apl_times, color='b')\n",
    "    p2 = plt.bar(x, merge_times, color='r')\n",
    "    p3 = plt.bar(x, query_times, bottom=merge_times, color='g')\n",
    "#     ax.set_yscale('log')\n",
    "    ax.set_ylabel('Time per run (s)')\n",
    "    ax.set_xlabel('Sketch')\n",
    "    ax.set_xticklabels(labels=index, rotation='-45')\n",
    "    ax.yaxis.grid(True)\n",
    "    ax.set_xticks(x, index)\n",
    "    ax.legend((p2[0], p3[0]), ('Merge', 'Query'))\n",
    "    \n",
    "#     pos_offset = 0.1 * trans['amount'].min()\n",
    "#     loop = 0\n",
    "#     for i, row in trans.iterrows():\n",
    "#         y = row['amount'] + pos_offset\n",
    "#         my_plot.annotate(\"{:,.3f}\".format(np.absolute(row['amount'])),(loop,y),ha=\"center\")\n",
    "#         loop += 1\n",
    "#     plt.set_ylim(ymax=trans['amount'].max() + 5)\n",
    "    \n",
    "    plt.ylim(ymax=20)\n",
    "    f.suptitle(title, y=1.02)\n",
    "    f.tight_layout()\n",
    "    plt.savefig(\"cascade_{}_3.pdf\".format(title.lower()), bbox_inches='tight')\n",
    "    plt.show()"
   ]
  },
  {
   "cell_type": "code",
   "execution_count": 144,
   "metadata": {},
   "outputs": [
    {
     "data": {
      "image/png": "[encoded data removed]",
      "text/plain": [
       "<matplotlib.figure.Figure at 0x115128a20>"
      ]
     },
     "metadata": {},
     "output_type": "display_data"
    }
   ],
   "source": [
    "apl_times = results.loc[:,'avg_apltime'].dropna().tolist()\n",
    "merge_times = results.loc[:,'avg_mergetime'].dropna().tolist()\n",
    "query_times = results.loc[:,'avg_querytime'].dropna().tolist()\n",
    "\n",
    "plot_data_3(apl_times, merge_times, query_times, \"milan\")"
   ]
  },
  {
   "cell_type": "code",
   "execution_count": 118,
   "metadata": {
    "collapsed": true
   },
   "outputs": [],
   "source": [
    "def plot_data_4(apl_times, merge_times, query_times, title):\n",
    "    f, axs = plt.subplots(2,1, figsize=(6,3), sharex=True)\n",
    "    axs[1].set_ylim(0, 15)\n",
    "    axs[0].set_ylim(60, 70)\n",
    "    x = range(6)\n",
    "    index = ['Baseline', '+Simple', '+Markov', '+Racz', 'Yahoo 1', 'Yahoo 2']\n",
    "    \n",
    "#     p1 = axs[0].bar(x, apl_times, color='b')\n",
    "    p2 = axs[0].bar(x, merge_times, color='r')\n",
    "    p3 = axs[0].bar(x, query_times, bottom=merge_times, color='g')\n",
    "    \n",
    "#     p1 = axs[1].bar(x, apl_times, color='b')\n",
    "    p2 = axs[1].bar(x, merge_times, color='r')\n",
    "    p3 = axs[1].bar(x, query_times, bottom=merge_times, color='g')\n",
    "    \n",
    "#     ax.set_yscale('log')\n",
    "    plt.ylabel('Time per run (s)')\n",
    "    plt.xlabel('Sketch')\n",
    "    plt.xticks(x, index, rotation='-45')\n",
    "    plt.yaxis.grid(True)\n",
    "#     plt.set_xticks(x, index)\n",
    "    plt.legend((p2[0], p3[0]), ('Merge', 'Query'))\n",
    "    \n",
    "#     pos_offset = 0.1 * trans['amount'].min()\n",
    "#     loop = 0\n",
    "#     for i, row in trans.iterrows():\n",
    "#         y = row['amount'] + pos_offset\n",
    "#         my_plot.annotate(\"{:,.3f}\".format(np.absolute(row['amount'])),(loop,y),ha=\"center\")\n",
    "#         loop += 1\n",
    "#     plt.set_ylim(ymax=trans['amount'].max() + 5)\n",
    "    \n",
    "#     plt.ylim(ymax=5)\n",
    "\n",
    "    f.suptitle(title, y=1.02)\n",
    "    f.tight_layout()\n",
    "    plt.savefig(\"cascade_{}_4.pdf\".format(title.lower()), bbox_inches='tight')\n",
    "    plt.show()"
   ]
  },
  {
   "cell_type": "markdown",
   "metadata": {},
   "source": [
    "# Old"
   ]
  },
  {
   "cell_type": "code",
   "execution_count": null,
   "metadata": {
    "collapsed": true
   },
   "outputs": [],
   "source": [
    "def plot_data_old(filter_data, throughput_data, title):\n",
    "    f, axs = plt.subplots(1,2, figsize=(6,3))\n",
    "\n",
    "    ax = axs[0]\n",
    "    index = ['Overall','Simple','Markov','Racz','Maxent']\n",
    "    filter_data = [d / filter_data[0] for d in filter_data]\n",
    "    data = {'amount': filter_data}\n",
    "\n",
    "    trans = pd.DataFrame(data=data,index=index)\n",
    "    blank = trans.amount.cumsum().shift(1).fillna(0)\n",
    "\n",
    "    total = trans.sum().amount\n",
    "    # trans.loc[\"Maxent\"] = total\n",
    "    # blank.loc[\"Maxent\"] = total\n",
    "\n",
    "    step = blank.reset_index(drop=True).repeat(3).shift(-1)\n",
    "    step[1::3] = np.nan\n",
    "\n",
    "    blank.loc[\"Maxent\"] = 0\n",
    "\n",
    "    #Plot and label\n",
    "    my_plot = trans.plot(ax=ax, kind='bar', stacked=True, bottom=blank, legend=None)\n",
    "    ax.plot(step.index, step.values,'k')\n",
    "    ax.set_yscale('log')\n",
    "    ax.set_ylabel('Fraction of queries filtered')\n",
    "    ax.set_xlabel('Cascade Stage')\n",
    "    ax.set_xticklabels(labels=index, rotation='-45')\n",
    "    ax.yaxis.grid(True)\n",
    "    \n",
    "    y_height = trans.amount.cumsum().shift(1).fillna(0)\n",
    "    y_height[0] = 1\n",
    "    print(y_height)\n",
    "\n",
    "    #Start label loop\n",
    "    pos_offset = 1.2\n",
    "    loop = 0\n",
    "    for i, row in trans.iterrows():\n",
    "        y = y_height[loop] * pos_offset\n",
    "        my_plot.annotate(\"{:,.3f}\".format(np.absolute(row['amount'])),(loop,y),ha=\"center\")\n",
    "        loop += 1\n",
    "    my_plot.set_ylim(ymax=2)\n",
    "\n",
    "    ### Throughput ###\n",
    "    ax = axs[1]\n",
    "    index = ['Overall','Simple','Markov','Moment','Maxent']\n",
    "    data = {'amount': throughput_data}\n",
    "    trans = pd.DataFrame(data=data,index=index)\n",
    "\n",
    "    trans.plot(ax=ax, kind='bar', legend=None)\n",
    "    ax.set_yscale('log')\n",
    "    ax.set_ylabel('Throughput (QPS)')\n",
    "    ax.set_xlabel('Cascade Stage')\n",
    "    ax.set_xticklabels(labels=index, rotation='-45')\n",
    "    ax.yaxis.grid(True)\n",
    "\n",
    "    f.suptitle(title, y=1.02)\n",
    "    f.tight_layout()\n",
    "    plt.savefig(\"cascade_{}.pdf\".format(title.lower()), bbox_inches='tight')\n",
    "    plt.show()"
   ]
  }
 ],
 "metadata": {
  "kernelspec": {
   "display_name": "Python 3",
   "language": "python",
   "name": "python3"
  },
  "language_info": {
   "codemirror_mode": {
    "name": "ipython",
    "version": 3
   },
   "file_extension": ".py",
   "mimetype": "text/x-python",
   "name": "python",
   "nbconvert_exporter": "python",
   "pygments_lexer": "ipython3",
   "version": "3.6.1"
  }
 },
 "nbformat": 4,
 "nbformat_minor": 2
}
