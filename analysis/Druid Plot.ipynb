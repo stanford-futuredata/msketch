{
 "cells": [
  {
   "cell_type": "code",
   "execution_count": 3,
   "metadata": {
    "collapsed": true
   },
   "outputs": [],
   "source": [
    "%matplotlib inline\n",
    "import pandas as pd\n",
    "import numpy as np\n",
    "import matplotlib.pyplot as plt"
   ]
  },
  {
   "cell_type": "code",
   "execution_count": 4,
   "metadata": {
    "collapsed": true
   },
   "outputs": [],
   "source": [
    "def human_format(x):\n",
    "    sigpart = 0\n",
    "    suffix = \"\"\n",
    "    if x < 1000:\n",
    "        return \"{:.3g}\".format(x)\n",
    "    elif x < 1000000:\n",
    "        sigpart = x / 1000\n",
    "        suffix = \"k\"\n",
    "    elif x < 1000000000:\n",
    "        sigpart = x / 1000000\n",
    "        suffix = \"M\"\n",
    "    else:\n",
    "        sigpart = x / 1000000000\n",
    "        suffix = \"B\"\n",
    "    return \"{:.3g}{}\".format(sigpart, suffix)"
   ]
  },
  {
   "cell_type": "code",
   "execution_count": 5,
   "metadata": {
    "collapsed": true
   },
   "outputs": [],
   "source": [
    "df = pd.read_csv(\"../finalresults/druid.csv\")"
   ]
  },
  {
   "cell_type": "code",
   "execution_count": 6,
   "metadata": {
    "collapsed": true
   },
   "outputs": [],
   "source": [
    "datasets = [\"milan5\"]\n",
    "datasetnames = [\n",
    "    \"Milan 5 Day\"\n",
    "]\n",
    "sketches = [\n",
    "    (\"sum\", 1),\n",
    "    (\"moments\", 10),\n",
    "    (\"stree\", 10),\n",
    "    (\"stree\", 100),\n",
    "    (\"stree\", 1000)\n",
    "]\n",
    "sketchnames = [\n",
    "    \"sum\",\n",
    "    \"moments\",\n",
    "    \"stree:10\",\n",
    "    \"stree:100\",\n",
    "    \"stree:1000\"\n",
    "]\n",
    "patterns = [ \"/\" , \"\\\\\" , \"|\" , \"-\" , \"+\" , \"x\", \"o\", \"O\", \".\", \"*\" ]"
   ]
  },
  {
   "cell_type": "code",
   "execution_count": 14,
   "metadata": {},
   "outputs": [
    {
     "data": {
      "image/png": "[encoded data removed]",
      "text/plain": [
       "<matplotlib.figure.Figure at 0x1123860b8>"
      ]
     },
     "metadata": {},
     "output_type": "display_data"
    }
   ],
   "source": [
    "fig, ax = plt.subplots(figsize=(4,4), ncols=1, sharey=True, dpi=100)\n",
    "for di in range(len(datasets)):\n",
    "    dname = datasets[di]\n",
    "    data = df[(df.Dataset == dname)]\n",
    "    xlocs = np.arange(0, len(sketches))\n",
    "    ys = (data.Rows) / data.Time\n",
    "    ax.bar(\n",
    "        xlocs,\n",
    "        height=ys,\n",
    "        log=True,\n",
    "        color = [\"C0\", \"C1\", \"C2\", \"C3\", \"C4\"]\n",
    "    )\n",
    "    rects = ax.patches\n",
    "    for rect, label in zip(rects, ys):\n",
    "        height = rect.get_height()\n",
    "        ax.text(\n",
    "            rect.get_x() + rect.get_width()/2, \n",
    "            height,\n",
    "            human_format(label),\n",
    "            ha='center', va='bottom', size = 8,\n",
    "        )\n",
    "\n",
    "    ax.set_xticks(xlocs)\n",
    "    ax.set_xticklabels(sketchnames, rotation=-45)\n",
    "    ax.yaxis.grid(True)\n",
    "    ax.set_title(\"Druid: \"+datasetnames[di])\n",
    "    if di == 0:\n",
    "        ax.set_ylabel(\"Throughput (rows / sec)\")\n",
    "#     ax.set_ylim(0.005, 10)\n",
    "    ax.set_xlabel(\"Sketch\")\n",
    "plt.tight_layout()\n",
    "plt.savefig(\"druid.pdf\")"
   ]
  },
  {
   "cell_type": "code",
   "execution_count": null,
   "metadata": {
    "collapsed": true
   },
   "outputs": [],
   "source": []
  }
 ],
 "metadata": {
  "kernelspec": {
   "display_name": "Python 3",
   "language": "python",
   "name": "python3"
  },
  "language_info": {
   "codemirror_mode": {
    "name": "ipython",
    "version": 3
   },
   "file_extension": ".py",
   "mimetype": "text/x-python",
   "name": "python",
   "nbconvert_exporter": "python",
   "pygments_lexer": "ipython3",
   "version": "3.6.2"
  }
 },
 "nbformat": 4,
 "nbformat_minor": 2
}
