{
 "cells": [
  {
   "cell_type": "code",
   "execution_count": 17,
   "metadata": {
    "collapsed": true
   },
   "outputs": [],
   "source": [
    "%matplotlib inline\n",
    "import pandas as pd\n",
    "import numpy as np\n",
    "import os\n",
    "from benchmarks.csketch import CSketch\n",
    "import benchmarks.csolver as csolver\n",
    "import matplotlib.pyplot as plt"
   ]
  },
  {
   "cell_type": "code",
   "execution_count": 18,
   "metadata": {
    "collapsed": true
   },
   "outputs": [],
   "source": [
    "rdf = pd.read_csv(\"results.csv\")"
   ]
  },
  {
   "cell_type": "code",
   "execution_count": 32,
   "metadata": {},
   "outputs": [
    {
     "data": {
      "text/html": [
       "<div>\n",
       "<style>\n",
       "    .dataframe thead tr:only-child th {\n",
       "        text-align: right;\n",
       "    }\n",
       "\n",
       "    .dataframe thead th {\n",
       "        text-align: left;\n",
       "    }\n",
       "\n",
       "    .dataframe tbody tr th {\n",
       "        vertical-align: top;\n",
       "    }\n",
       "</style>\n",
       "<table border=\"1\" class=\"dataframe\">\n",
       "  <thead>\n",
       "    <tr style=\"text-align: right;\">\n",
       "      <th></th>\n",
       "      <th>p</th>\n",
       "      <th>p_q</th>\n",
       "      <th>q_delta</th>\n",
       "      <th>q_est</th>\n",
       "      <th>q_true</th>\n",
       "    </tr>\n",
       "  </thead>\n",
       "  <tbody>\n",
       "    <tr>\n",
       "      <th>0</th>\n",
       "      <td>0.001</td>\n",
       "      <td>0.000046</td>\n",
       "      <td>0.000954</td>\n",
       "      <td>31.374738</td>\n",
       "      <td>36.0</td>\n",
       "    </tr>\n",
       "    <tr>\n",
       "      <th>1</th>\n",
       "      <td>0.010</td>\n",
       "      <td>0.000046</td>\n",
       "      <td>0.009954</td>\n",
       "      <td>33.429016</td>\n",
       "      <td>37.0</td>\n",
       "    </tr>\n",
       "    <tr>\n",
       "      <th>2</th>\n",
       "      <td>0.100</td>\n",
       "      <td>0.231126</td>\n",
       "      <td>0.131126</td>\n",
       "      <td>37.131719</td>\n",
       "      <td>37.0</td>\n",
       "    </tr>\n",
       "    <tr>\n",
       "      <th>3</th>\n",
       "      <td>0.200</td>\n",
       "      <td>0.269057</td>\n",
       "      <td>0.069057</td>\n",
       "      <td>39.253629</td>\n",
       "      <td>37.0</td>\n",
       "    </tr>\n",
       "    <tr>\n",
       "      <th>4</th>\n",
       "      <td>0.300</td>\n",
       "      <td>0.335678</td>\n",
       "      <td>0.035678</td>\n",
       "      <td>41.145750</td>\n",
       "      <td>41.0</td>\n",
       "    </tr>\n",
       "    <tr>\n",
       "      <th>5</th>\n",
       "      <td>0.400</td>\n",
       "      <td>0.402092</td>\n",
       "      <td>0.002092</td>\n",
       "      <td>43.103889</td>\n",
       "      <td>43.0</td>\n",
       "    </tr>\n",
       "    <tr>\n",
       "      <th>6</th>\n",
       "      <td>0.500</td>\n",
       "      <td>0.502483</td>\n",
       "      <td>0.002483</td>\n",
       "      <td>45.296824</td>\n",
       "      <td>45.0</td>\n",
       "    </tr>\n",
       "    <tr>\n",
       "      <th>7</th>\n",
       "      <td>0.600</td>\n",
       "      <td>0.561931</td>\n",
       "      <td>0.038069</td>\n",
       "      <td>47.878328</td>\n",
       "      <td>49.0</td>\n",
       "    </tr>\n",
       "    <tr>\n",
       "      <th>8</th>\n",
       "      <td>0.700</td>\n",
       "      <td>0.669609</td>\n",
       "      <td>0.030391</td>\n",
       "      <td>51.018414</td>\n",
       "      <td>53.0</td>\n",
       "    </tr>\n",
       "    <tr>\n",
       "      <th>9</th>\n",
       "      <td>0.800</td>\n",
       "      <td>0.822782</td>\n",
       "      <td>0.022782</td>\n",
       "      <td>55.005411</td>\n",
       "      <td>55.0</td>\n",
       "    </tr>\n",
       "    <tr>\n",
       "      <th>10</th>\n",
       "      <td>0.900</td>\n",
       "      <td>0.936529</td>\n",
       "      <td>0.036529</td>\n",
       "      <td>61.034872</td>\n",
       "      <td>56.0</td>\n",
       "    </tr>\n",
       "    <tr>\n",
       "      <th>11</th>\n",
       "      <td>0.990</td>\n",
       "      <td>0.984138</td>\n",
       "      <td>0.005862</td>\n",
       "      <td>100.266364</td>\n",
       "      <td>103.0</td>\n",
       "    </tr>\n",
       "    <tr>\n",
       "      <th>12</th>\n",
       "      <td>0.999</td>\n",
       "      <td>0.999241</td>\n",
       "      <td>0.000241</td>\n",
       "      <td>107.488452</td>\n",
       "      <td>107.0</td>\n",
       "    </tr>\n",
       "  </tbody>\n",
       "</table>\n",
       "</div>"
      ],
      "text/plain": [
       "        p       p_q   q_delta       q_est  q_true\n",
       "0   0.001  0.000046  0.000954   31.374738    36.0\n",
       "1   0.010  0.000046  0.009954   33.429016    37.0\n",
       "2   0.100  0.231126  0.131126   37.131719    37.0\n",
       "3   0.200  0.269057  0.069057   39.253629    37.0\n",
       "4   0.300  0.335678  0.035678   41.145750    41.0\n",
       "5   0.400  0.402092  0.002092   43.103889    43.0\n",
       "6   0.500  0.502483  0.002483   45.296824    45.0\n",
       "7   0.600  0.561931  0.038069   47.878328    49.0\n",
       "8   0.700  0.669609  0.030391   51.018414    53.0\n",
       "9   0.800  0.822782  0.022782   55.005411    55.0\n",
       "10  0.900  0.936529  0.036529   61.034872    56.0\n",
       "11  0.990  0.984138  0.005862  100.266364   103.0\n",
       "12  0.999  0.999241  0.000241  107.488452   107.0"
      ]
     },
     "execution_count": 32,
     "metadata": {},
     "output_type": "execute_result"
    }
   ],
   "source": [
    "rdf"
   ]
  },
  {
   "cell_type": "code",
   "execution_count": 21,
   "metadata": {},
   "outputs": [
    {
     "data": {
      "text/plain": [
       "0.029632183908045971"
      ]
     },
     "execution_count": 21,
     "metadata": {},
     "output_type": "execute_result"
    }
   ],
   "source": [
    "rdf[\"q_delta\"].mean()"
   ]
  },
  {
   "cell_type": "code",
   "execution_count": 22,
   "metadata": {},
   "outputs": [],
   "source": [
    "df = pd.read_csv(\"sampledata/shuttle.csv\", usecols=[\"0\"])\n",
    "data = df[\"0\"]\n",
    "n = len(data)\n",
    "sdata = np.sort(data)\n",
    "amin = np.min(data)\n",
    "amax = np.max(data)"
   ]
  },
  {
   "cell_type": "code",
   "execution_count": 23,
   "metadata": {},
   "outputs": [
    {
     "name": "stdout",
     "output_type": "stream",
     "text": [
      "[ 3.93401264  1.91851544  2.86310626 -2.22294908  1.29444691 -2.32281208\n",
      " -0.82717765 -1.3844928 ]\n"
     ]
    }
   ],
   "source": [
    "s = CSketch(8)\n",
    "s.train(data)\n",
    "lambdas,steps = csolver.solve(s.m, 1e-10)\n",
    "print(lambdas)\n",
    "f = csolver.gen_pdf(lambdas)"
   ]
  },
  {
   "cell_type": "code",
   "execution_count": 24,
   "metadata": {},
   "outputs": [],
   "source": [
    "def convert(x, amin, amax):\n",
    "    return (x+1)/2*(amax-amin)+amin"
   ]
  },
  {
   "cell_type": "code",
   "execution_count": 25,
   "metadata": {},
   "outputs": [
    {
     "data": {
      "text/plain": [
       "[<matplotlib.lines.Line2D at 0x10e14f3c8>]"
      ]
     },
     "execution_count": 25,
     "metadata": {},
     "output_type": "execute_result"
    },
    {
     "data": {
      "image/png": "[encoded data removed]",
      "text/plain": [
       "<matplotlib.figure.Figure at 0x11428c588>"
      ]
     },
     "metadata": {},
     "output_type": "display_data"
    }
   ],
   "source": [
    "xs = np.linspace(-1,1,1000)\n",
    "ys = f(xs)\n",
    "plt.plot(xs, ys)"
   ]
  },
  {
   "cell_type": "code",
   "execution_count": 7,
   "metadata": {
    "collapsed": true
   },
   "outputs": [],
   "source": [
    "import cvxpy as cvx"
   ]
  },
  {
   "cell_type": "code",
   "execution_count": 26,
   "metadata": {
    "collapsed": true
   },
   "outputs": [],
   "source": [
    "class CvxEstimator:\n",
    "    def __init__(\n",
    "            self,\n",
    "            a_min: float,\n",
    "            a_max: float,\n",
    "            moments,\n",
    "            resolution=5000,\n",
    "    ):\n",
    "        self.k = len(moments)-1\n",
    "        self.resolution = resolution\n",
    "\n",
    "        self.min = a_min\n",
    "        self.max = a_max\n",
    "        # Bucket boundaries, n+1 boundaries for n buckets\n",
    "        self.locs = np.concatenate([\n",
    "            np.linspace(self.min, self.max, resolution),\n",
    "            [self.max + (self.max-self.min)/resolution]\n",
    "        ])\n",
    "\n",
    "        self.data_moments = np.array(moments)\n",
    "        # Moment values of the boundaries\n",
    "        self.loc_moments = []\n",
    "        for i in range(self.k+1):\n",
    "            self.loc_moments.append(\n",
    "                (self.locs)**i\n",
    "            )\n",
    "        self.loc_moments = np.array(self.loc_moments)\n",
    "\n",
    "        # Rescale the inequalities to make tolerances more consistent\n",
    "        scale_factor = self.data_moments.reshape(len(self.data_moments), 1)\n",
    "        b = np.repeat(1, len(self.data_moments))\n",
    "\n",
    "        Xs = cvx.Variable(resolution)\n",
    "        self.Xs = Xs\n",
    "        self.constraints = [\n",
    "            Xs >= 0,\n",
    "#             Xs[0] >= 1,\n",
    "#             Xs[-1] >= 1,\n",
    "            (self.loc_moments[:, :-1]/scale_factor) * Xs <= b,\n",
    "            (self.loc_moments[:, 1:]/scale_factor) * Xs >= b\n",
    "        ]\n",
    "\n",
    "    def solve_gt(self, threshold: float):\n",
    "        return self.solve_gt_l(threshold), self.solve_gt_u(threshold)\n",
    "\n",
    "    def solve_gt_l(self, threshold: float):\n",
    "        idx = np.searchsorted(self.locs, threshold)\n",
    "        prob = cvx.Problem(\n",
    "            cvx.Minimize(cvx.sum_entries(self.Xs[idx:])),\n",
    "            self.constraints\n",
    "        )\n",
    "        return prob.solve(solver=cvx.ECOS, feastol=1e-8)\n",
    "\n",
    "    def solve_gt_u(self, threshold: float):\n",
    "        idx = np.searchsorted(self.locs, threshold)\n",
    "        if idx == 0:\n",
    "            idx = 1\n",
    "        prob = cvx.Problem(\n",
    "            cvx.Maximize(cvx.sum_entries(self.Xs[idx - 1:])),\n",
    "            self.constraints\n",
    "        )\n",
    "        return prob.solve(solver=cvx.ECOS, feastol=1e-8)\n",
    "\n",
    "    def solve_threshold_quantile(self, threshold):\n",
    "        idx = np.searchsorted(self.locs, threshold)\n",
    "        prob_l = cvx.Problem(\n",
    "            cvx.Minimize(cvx.sum_entries(self.Xs[:idx-1])),\n",
    "            self.constraints\n",
    "        )\n",
    "        lb = prob_l.solve(solver=cvx.GLPK)\n",
    "        self.Xlb = self.Xs.value\n",
    "        \n",
    "        prob_r = cvx.Problem(\n",
    "            cvx.Maximize(cvx.sum_entries(self.Xs[:idx])),\n",
    "            self.constraints\n",
    "        )\n",
    "        ub = prob_r.solve(solver=cvx.GLPK)\n",
    "        self.Xub = self.Xs.value\n",
    "        \n",
    "        count = self.data_moments[0]\n",
    "        return lb/count, ub/count\n",
    "    \n",
    "    \n",
    "    def solve_quantile_maxent(self, quantile):\n",
    "        count = self.data_moments[0]\n",
    "        prob = cvx.Problem(\n",
    "            cvx.Maximize(cvx.sum_entries(cvx.entr(\n",
    "                self.Xs / count\n",
    "            ))),\n",
    "            self.constraints\n",
    "        )\n",
    "        prob.solve(solver=cvx.ECOS, feastol=1e-7)\n",
    "\n",
    "        values = self.Xs.value\n",
    "        self.Xmaxent = values\n",
    "        target_sum = count * quantile\n",
    "        running_sum = 0\n",
    "        excess_fraction = 0.5\n",
    "        for i, val in enumerate(values):\n",
    "            val = float(val)\n",
    "            running_sum += val\n",
    "            if running_sum >= target_sum:\n",
    "                excess_fraction = (running_sum - target_sum) / val\n",
    "                break\n",
    "\n",
    "        best_est = (1-excess_fraction)*self.locs[i] + excess_fraction*self.locs[i+1]\n",
    "\n",
    "        return best_est"
   ]
  },
  {
   "cell_type": "code",
   "execution_count": 27,
   "metadata": {
    "collapsed": true
   },
   "outputs": [],
   "source": [
    "k = 8\n",
    "ms = [\n",
    "    np.sum(data**i) for i in range(k)\n",
    "]"
   ]
  },
  {
   "cell_type": "code",
   "execution_count": 28,
   "metadata": {
    "collapsed": true
   },
   "outputs": [],
   "source": [
    "est = CvxEstimator(\n",
    "    np.min(data),\n",
    "    np.max(data),\n",
    "    ms\n",
    ")"
   ]
  },
  {
   "cell_type": "code",
   "execution_count": 29,
   "metadata": {
    "scrolled": true
   },
   "outputs": [
    {
     "data": {
      "text/plain": [
       "51.021967979097006"
      ]
     },
     "execution_count": 29,
     "metadata": {},
     "output_type": "execute_result"
    }
   ],
   "source": [
    "est.solve_quantile_maxent(.7)"
   ]
  },
  {
   "cell_type": "code",
   "execution_count": 30,
   "metadata": {},
   "outputs": [
    {
     "data": {
      "text/plain": [
       "[<matplotlib.lines.Line2D at 0x1138ab860>]"
      ]
     },
     "execution_count": 30,
     "metadata": {},
     "output_type": "execute_result"
    },
    {
     "data": {
      "image/png": "[encoded data removed]",
      "text/plain": [
       "<matplotlib.figure.Figure at 0x1142873c8>"
      ]
     },
     "metadata": {},
     "output_type": "display_data"
    }
   ],
   "source": [
    "plt.plot(est.locs[:-1], est.Xmaxent)"
   ]
  },
  {
   "cell_type": "code",
   "execution_count": null,
   "metadata": {
    "collapsed": true
   },
   "outputs": [],
   "source": []
  }
 ],
 "metadata": {
  "kernelspec": {
   "display_name": "Python 3",
   "language": "python",
   "name": "python3"
  },
  "language_info": {
   "codemirror_mode": {
    "name": "ipython",
    "version": 3
   },
   "file_extension": ".py",
   "mimetype": "text/x-python",
   "name": "python",
   "nbconvert_exporter": "python",
   "pygments_lexer": "ipython3",
   "version": "3.6.2"
  }
 },
 "nbformat": 4,
 "nbformat_minor": 2
}
