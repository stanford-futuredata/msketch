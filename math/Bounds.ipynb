{
 "cells": [
  {
   "cell_type": "code",
   "execution_count": 217,
   "metadata": {
    "collapsed": true
   },
   "outputs": [],
   "source": [
    "%matplotlib inline\n",
    "import matplotlib.pyplot as plt\n",
    "import pandas as pd\n",
    "import numpy as np\n",
    "import scipy\n",
    "import scipy.integrate\n",
    "import scipy.linalg\n",
    "import math"
   ]
  },
  {
   "cell_type": "code",
   "execution_count": 218,
   "metadata": {
    "collapsed": true
   },
   "outputs": [],
   "source": [
    "np.seterr(all='raise')\n",
    "\n",
    "df = pd.read_csv(\"../sampledata/shuttle.csv\")\n",
    "sampledata = df[\"0\"]\n",
    "sampledata = np.float64(sampledata)\n",
    "\n",
    "# df = pd.read_csv(\"~/mb-azure/java_impl/data/uci_retail_cleaned.csv\")\n",
    "# sampledata = retail[\"x\"]\n",
    "# sampledata = np.float64(sampledata)\n",
    "\n",
    "# Scale to between -1 and 1\n",
    "# x_min = np.min(sampledata)\n",
    "# x_max = np.max(sampledata)\n",
    "# sampledata = (sampledata - x_min)\n",
    "# sampledata = sampledata / np.max(sampledata)\n",
    "# sampledata = (sampledata-.5)*2\n",
    "\n",
    "def moments(data, n):\n",
    "    return [\n",
    "        sum([x**i for x in data]) for i in range(2*n + 1)\n",
    "    ]"
   ]
  },
  {
   "cell_type": "code",
   "execution_count": 219,
   "metadata": {},
   "outputs": [
    {
     "data": {
      "image/png": "[encoded data removed]",
      "text/plain": [
       "<matplotlib.figure.Figure at 0x116b73c88>"
      ]
     },
     "metadata": {},
     "output_type": "display_data"
    }
   ],
   "source": [
    "plt.hist(sampledata, bins=100)\n",
    "plt.show()"
   ]
  },
  {
   "cell_type": "code",
   "execution_count": 220,
   "metadata": {},
   "outputs": [
    {
     "name": "stdout",
     "output_type": "stream",
     "text": [
      "126.0\n",
      "27.0\n"
     ]
    }
   ],
   "source": [
    "print(sampledata.max())\n",
    "print(sampledata.min())"
   ]
  },
  {
   "cell_type": "code",
   "execution_count": 221,
   "metadata": {
    "collapsed": true
   },
   "outputs": [],
   "source": [
    "estimate = 45\n",
    "n = 5  # use up to the 2n-th moment"
   ]
  },
  {
   "cell_type": "markdown",
   "metadata": {},
   "source": [
    "# Hungarian Bounds"
   ]
  },
  {
   "cell_type": "code",
   "execution_count": 222,
   "metadata": {
    "collapsed": true
   },
   "outputs": [],
   "source": [
    "# http://www.sciencedirect.com/science/article/pii/S0895717705004863#fd16\n",
    "def hankel_det(m):\n",
    "    n = int((len(m) - 1) / 2)\n",
    "    matrix = []\n",
    "    for r in range(n+1):\n",
    "        matrix.append(m[r:r+n+1])\n",
    "    matrix = np.asarray(matrix)\n",
    "    return np.linalg.det(matrix)\n",
    "\n",
    "# Moments on data shifted so point of interest is 0\n",
    "def max_mass_at_zero(normalized_moments):\n",
    "    n = int((len(normalized_moments) - 1) / 2)\n",
    "    numerator_matrix = []\n",
    "    for r in range(n+1):\n",
    "        numerator_matrix.append(normalized_moments[r:r+n+1])\n",
    "    numerator_matrix = np.asarray(numerator_matrix)\n",
    "    denominator_matrix = []\n",
    "    for r in range(2, n+2):\n",
    "        denominator_matrix.append(normalized_moments[r:r+n])\n",
    "    denominator_matrix = np.asarray(denominator_matrix)\n",
    "    p = np.linalg.det(numerator_matrix) / np.linalg.det(denominator_matrix)\n",
    "    return p\n",
    "\n",
    "# Moments on data shifted so point of interest is 0\n",
    "# Question: should first moment also be subtracted by p?\n",
    "def gen_orthogonal_P(normalized_moments):\n",
    "    n = int((len(normalized_moments) - 1) / 2)\n",
    "    # Scale not actually necessary\n",
    "#     scale = 1. / math.sqrt(hankel_det(normalized_moments[:-2]) * hankel_det(normalized_moments))\n",
    "    scale = 1.\n",
    "    \n",
    "    matrix = []\n",
    "    for r in range(n):\n",
    "        matrix.append(normalized_moments[r:r+n+1])\n",
    "    matrix = np.asarray(matrix)\n",
    "        \n",
    "    coefs = []\n",
    "    sign = 1 if n % 2 == 0 else -1\n",
    "    for i in range(n+1):\n",
    "        minor = np.delete(matrix, i, axis=1)\n",
    "        coefs.append(scale * sign * (-1)**i * np.linalg.det(minor))\n",
    "    \n",
    "    def P(x):\n",
    "        return sum([coefs[i] * x**i for i in range(n+1)])\n",
    "    return P, coefs"
   ]
  },
  {
   "cell_type": "code",
   "execution_count": 242,
   "metadata": {
    "collapsed": true
   },
   "outputs": [],
   "source": [
    "def bounds(data, C, n):\n",
    "    # shift data so C is 0\n",
    "    data = np.float64(data - C)\n",
    "    # scale data so range is 1\n",
    "    data = np.float64(data * 2. / (np.max(data) - np.min(data)))\n",
    "    m = moments(data, n)\n",
    "    m /= m[0]\n",
    "    p = max_mass_at_zero(m)\n",
    "    print(\"Bound size: \", p)\n",
    "    m[0] -= p\n",
    "    print(\"Moments: \", m)\n",
    "    P, coefs = gen_orthogonal_P(m)\n",
    "    xs = np.roots(coefs[::-1])\n",
    "    A = []\n",
    "    for i in range(n):\n",
    "        A.append([x**i for x in xs])\n",
    "    A = np.asarray(A)\n",
    "    weights = np.linalg.solve(A, m[:n])\n",
    "    L = 0\n",
    "    for x, w in zip(xs, weights):\n",
    "        if x < 0:\n",
    "            L += w\n",
    "    U = L + p\n",
    "    print(\"Coefs \", coefs)\n",
    "    print(\"Positions \", xs)\n",
    "    print(\"Weights \", weights)\n",
    "    print(\"Quantile of estimate is between: \", L, U)\n",
    "    return xs, weights, p"
   ]
  },
  {
   "cell_type": "code",
   "execution_count": 245,
   "metadata": {},
   "outputs": [
    {
     "name": "stdout",
     "output_type": "stream",
     "text": [
      "Bound size:  0.333963445105\n",
      "Moments:  [ 0.66603655  0.06565146  0.06557863  0.04539244  0.04589481  0.04905022\n",
      "  0.05530223  0.06435343  0.07669897  0.09315405  0.11499342  0.14412662\n",
      "  0.18340535]\n",
      "Coefs  [-4.7838406728266286e-18, 6.7781417493710362e-18, 1.5689361470163457e-16, -4.6605030515004686e-16, 4.6012966599284545e-16, -1.7276633085027352e-16, 1.7434592329896782e-17]\n",
      "Positions  [ 6.40693653  1.53464494  1.18817827  0.72779727 -0.15558125  0.20742319]\n",
      "Weights  [  5.74155852e-15   3.29871982e-04   1.59364564e-02   4.11991392e-02\n",
      "   3.03044524e-01   3.05526563e-01]\n",
      "Quantile of estimate is between:  0.303044523808 0.637007968913\n",
      "Actual quantile:  0.447149425287\n"
     ]
    }
   ],
   "source": [
    "estimate = 45.\n",
    "n = 6\n",
    "positions, weights, p = bounds(sampledata, estimate, n)\n",
    "\n",
    "sdata = np.sort(sampledata)\n",
    "print(\"Actual quantile: \", np.searchsorted(sdata, estimate) / len(sdata))"
   ]
  },
  {
   "cell_type": "code",
   "execution_count": null,
   "metadata": {
    "collapsed": true
   },
   "outputs": [],
   "source": []
  },
  {
   "cell_type": "code",
   "execution_count": 216,
   "metadata": {},
   "outputs": [
    {
     "name": "stdout",
     "output_type": "stream",
     "text": [
      "223 ms ± 23.6 ms per loop (mean ± std. dev. of 7 runs, 10 loops each)\n",
      "210 ms ± 12.9 ms per loop (mean ± std. dev. of 7 runs, 1 loop each)\n"
     ]
    }
   ],
   "source": [
    "def lindsay(data, C, n):\n",
    "    data = np.float64(data)\n",
    "    m = moments(data, n)\n",
    "    m /= m[0]\n",
    "    n = int((len(m) - 1) / 2)\n",
    "    matrix = []\n",
    "    for r in range(n+1):\n",
    "        matrix.append(m[r:r+n+1])\n",
    "    matrix = np.asarray(matrix)\n",
    "    v = [C**i for i in range(n+1)]\n",
    "    v = np.asarray(v).reshape((6, 1))\n",
    "    return 1.0 / (np.transpose(v).dot(np.linalg.inv(matrix)).dot(v))\n",
    "\n",
    "def racz(data, C, n):\n",
    "    data = np.float64(data - C)\n",
    "    m = moments(data, n)\n",
    "    m /= m[0]\n",
    "    n = int((len(m) - 1) / 2)\n",
    "    numerator_matrix = []\n",
    "    for r in range(n+1):\n",
    "        numerator_matrix.append(m[r:r+n+1])\n",
    "    numerator_matrix = np.asarray(numerator_matrix)\n",
    "    denominator_matrix = []\n",
    "    for r in range(2, n+2):\n",
    "        denominator_matrix.append(m[r:r+n])\n",
    "    denominator_matrix = np.asarray(denominator_matrix)\n",
    "    p = np.linalg.det(numerator_matrix) / np.linalg.det(denominator_matrix)\n",
    "    return p\n",
    "\n",
    "%timeit lindsay(sampledata, estimate, n)\n",
    "%timeit racz(sampledata, estimate, n)"
   ]
  },
  {
   "cell_type": "code",
   "execution_count": 146,
   "metadata": {},
   "outputs": [
    {
     "data": {
      "image/png": "[encoded data removed]",
      "text/plain": [
       "<matplotlib.figure.Figure at 0x11723b160>"
      ]
     },
     "metadata": {},
     "output_type": "display_data"
    }
   ],
   "source": [
    "positions_to_plot = np.append(positions + estimate, estimate)\n",
    "weights_to_plot = np.append(weights, p) * len(sampledata)\n",
    "to_plot = sorted(zip(positions_to_plot, weights_to_plot))\n",
    "plt.scatter([p[0] for p in to_plot], [p[1] for p in to_plot])\n",
    "plt.show()"
   ]
  },
  {
   "cell_type": "markdown",
   "metadata": {
    "collapsed": true
   },
   "source": [
    "# cvxpy Bounds"
   ]
  },
  {
   "cell_type": "code",
   "execution_count": 147,
   "metadata": {
    "collapsed": true
   },
   "outputs": [],
   "source": [
    "import cvxpy as cvx\n",
    "\n",
    "def cvx_bounds(data, C, n, resolution=1000):\n",
    "    m = moments(data, n)\n",
    "    k = 2*n\n",
    "    minval = np.min(data)\n",
    "    maxval = np.max(data)\n",
    "    \n",
    "    locs = np.concatenate([\n",
    "        np.linspace(minval, maxval, resolution),\n",
    "    ])\n",
    "    locs = np.sort(locs)\n",
    "    loc_moments = []\n",
    "    for i in range(k+1):\n",
    "        loc_moments.append(\n",
    "            locs**i\n",
    "        )\n",
    "    loc_moments = np.array(loc_moments)\n",
    "    idx = np.searchsorted(locs, C)\n",
    "    count = m[0]\n",
    "\n",
    "    Xs = cvx.Variable(len(locs))\n",
    "\n",
    "    constraints = [\n",
    "        Xs >= 0,\n",
    "        Xs[0] >= 1,\n",
    "        Xs[-1] >= 1,\n",
    "        loc_moments * Xs == m\n",
    "    ]\n",
    "    l_prob = cvx.Problem(\n",
    "        cvx.Minimize(cvx.sum_entries(Xs[:idx+1])),\n",
    "        constraints,\n",
    "    )\n",
    "    lb = l_prob.solve(solver=cvx.GLPK)\n",
    "    lb_dist = Xs.value\n",
    "    \n",
    "    u_prob = cvx.Problem(\n",
    "        cvx.Maximize(cvx.sum_entries(Xs[:idx+1])),\n",
    "        constraints\n",
    "    )\n",
    "    ub = u_prob.solve(solver=cvx.GLPK)\n",
    "    ub_dist = Xs.value\n",
    "    return lb/count, ub/count, lb_dist, ub_dist, locs"
   ]
  },
  {
   "cell_type": "code",
   "execution_count": 148,
   "metadata": {},
   "outputs": [
    {
     "name": "stdout",
     "output_type": "stream",
     "text": [
      "0.306960314105 0.637413418802\n"
     ]
    }
   ],
   "source": [
    "lb, ub, lb_dist, ub_dist, locs = cvx_bounds(sampledata, estimate, n)\n",
    "print(lb, ub)"
   ]
  },
  {
   "cell_type": "code",
   "execution_count": 149,
   "metadata": {},
   "outputs": [
    {
     "data": {
      "image/png": "[encoded data removed]",
      "text/plain": [
       "<matplotlib.figure.Figure at 0x1170d00f0>"
      ]
     },
     "metadata": {},
     "output_type": "display_data"
    }
   ],
   "source": [
    "plt.plot(locs, lb_dist)\n",
    "plt.plot(locs, ub_dist)\n",
    "plt.show()"
   ]
  },
  {
   "cell_type": "code",
   "execution_count": 150,
   "metadata": {},
   "outputs": [
    {
     "name": "stdout",
     "output_type": "stream",
     "text": [
      "[(27.0, 1.0), (37.306306306306304, 9904.50745048306), (37.405405405405403, 3447.2662130678464), (45.135135135135137, 14547.04917741344), (55.342342342342342, 13065.10721396146), (55.441441441441441, 42.726591929488606), (81.00900900900902, 621.6035639511196), (81.108108108108098, 1163.8802765124665), (103.70270270270271, 35.5257603601959), (103.8018018018018, 655.6014155806887), (119.85585585585585, 10.371641998896543), (119.95495495495496, 4.360694741331709), (126.0, 1.0)]\n"
     ]
    }
   ],
   "source": [
    "xy = zip(locs, [x[0] for x in lb_dist.tolist()])\n",
    "xy = [pair for pair in xy if pair[1] > 0]\n",
    "print(xy)"
   ]
  },
  {
   "cell_type": "code",
   "execution_count": 151,
   "metadata": {},
   "outputs": [
    {
     "name": "stdout",
     "output_type": "stream",
     "text": [
      "False\n",
      "[43499.999999999993, 2098863.9999999995, 107800016.0, 6005831427.9999981, 369924186368.0, 25475420299083.996, 1954803892405975.8, 1.6430830896853085e+17, 1.4790926986227182e+19, 1.3971091486866444e+21, 1.3638448459556249e+23]\n",
      "[43500.0, 2098864.0, 107800016.0, 6005831428.0, 369924186368.0, 25475420299084.0, 1954803892405976.0, 1.6430830896853082e+17, 1.4790926986227182e+19, 1.3971091486866444e+21, 1.3638448459556252e+23]\n"
     ]
    }
   ],
   "source": [
    "def xy_moments(xy, n):\n",
    "    moments = []\n",
    "    for i in range(2*n+1):\n",
    "        moment = 0\n",
    "        for pair in xy:\n",
    "            moment += pair[0]**i * pair[1]\n",
    "        moments.append(moment)\n",
    "    return moments\n",
    "        \n",
    "xy_m = xy_moments(xy, n)\n",
    "print(xy_m == moments(sampledata, n))\n",
    "print(xy_m)\n",
    "print(moments(sampledata, n))"
   ]
  },
  {
   "cell_type": "code",
   "execution_count": null,
   "metadata": {
    "collapsed": true
   },
   "outputs": [],
   "source": []
  }
 ],
 "metadata": {
  "kernelspec": {
   "display_name": "Python 3",
   "language": "python",
   "name": "python3"
  },
  "language_info": {
   "codemirror_mode": {
    "name": "ipython",
    "version": 3
   },
   "file_extension": ".py",
   "mimetype": "text/x-python",
   "name": "python",
   "nbconvert_exporter": "python",
   "pygments_lexer": "ipython3",
   "version": "3.6.1"
  }
 },
 "nbformat": 4,
 "nbformat_minor": 2
}
