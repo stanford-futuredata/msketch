{
 "cells": [
  {
   "cell_type": "code",
   "execution_count": 1,
   "metadata": {
    "collapsed": true
   },
   "outputs": [],
   "source": [
    "%matplotlib inline\n",
    "import matplotlib.pyplot as plt\n",
    "import pandas as pd\n",
    "import numpy as np\n",
    "import scipy\n",
    "import scipy.integrate\n",
    "import scipy.linalg\n",
    "import scipy.fftpack\n",
    "import math\n",
    "\n",
    "import pychebfun as pcf"
   ]
  },
  {
   "cell_type": "code",
   "execution_count": 29,
   "metadata": {
    "collapsed": true
   },
   "outputs": [],
   "source": [
    "p_gen = np.polynomial.chebyshev.Chebyshev\n",
    "p_basis = [p_gen.basis(deg=i)for i in range(100)]\n",
    "\n",
    "def calc_mus(f, mu_k):\n",
    "    mus = []\n",
    "    for i in range(mu_k):\n",
    "        p = p_basis[i]\n",
    "        v,err,infodict = scipy.integrate.quad(\n",
    "            lambda x: f(x)*p(x), -1, 1,\n",
    "            epsrel=0.0,\n",
    "            epsabs=1e-10,\n",
    "            limit=200,\n",
    "            full_output=True\n",
    "        )\n",
    "        mus.append(v)\n",
    "    return np.array(mus)\n",
    "def gen_pdf(lambd):\n",
    "    cp = p_gen(lambd)\n",
    "    def pdf(x):\n",
    "        return np.exp(-cp(x))\n",
    "    return pdf"
   ]
  },
  {
   "cell_type": "code",
   "execution_count": 1,
   "metadata": {
    "collapsed": true
   },
   "outputs": [],
   "source": [
    "def fit_cpoly(f, tol=1e-10):\n",
    "    c_k = 32\n",
    "    while True:\n",
    "        xvals = np.cos(np.linspace(0,math.pi,c_k+1))\n",
    "        fvals = f(xvals)\n",
    "        cs = scipy.fftpack.dct(fvals, type=1) / c_k\n",
    "        if abs(cs[-1]) < tol:\n",
    "            break\n",
    "        else:\n",
    "            c_k *= 2\n",
    "    cs[0] *= .5\n",
    "    return cs\n",
    "\n",
    "# Old version that doesn't using discrete cosine transform\n",
    "def fit_cpoly_raw(f, tol=1e-10):\n",
    "    c_k = 50\n",
    "    while True:\n",
    "        xvals = np.cos(np.linspace(0,math.pi,c_k+1))\n",
    "        fvals = f(xvals)\n",
    "        cs = np.zeros(c_k+1)\n",
    "        for j in range(c_k+1):\n",
    "            xjvals = np.cos(np.linspace(0,j*math.pi,c_k+1))\n",
    "            cs[j] = (2.0/c_k)*(\n",
    "                np.inner(fvals[1:-1],xjvals[1:-1]) \n",
    "                + .5*fvals[0]*xjvals[0]\n",
    "                + .5*fvals[-1]*xjvals[-1]\n",
    "            )\n",
    "        # Last term of the expansion is an error bound\n",
    "        if abs(cs[-1]) < tol:\n",
    "            break\n",
    "        else:\n",
    "            c_k *= 2\n",
    "    cs[0] *= .5\n",
    "    return cs"
   ]
  },
  {
   "cell_type": "code",
   "execution_count": 31,
   "metadata": {
    "collapsed": true
   },
   "outputs": [],
   "source": [
    "def fplot(f):\n",
    "    xs = np.linspace(-1,1,1000)\n",
    "    ys = f(xs)\n",
    "    plt.plot(xs, ys)"
   ]
  },
  {
   "cell_type": "code",
   "execution_count": 32,
   "metadata": {
    "collapsed": true
   },
   "outputs": [],
   "source": [
    "f = gen_pdf(np.array([1,2,3]))"
   ]
  },
  {
   "cell_type": "code",
   "execution_count": 33,
   "metadata": {
    "scrolled": false
   },
   "outputs": [
    {
     "data": {
      "text/plain": [
       "6.303954641290793"
      ]
     },
     "execution_count": 33,
     "metadata": {},
     "output_type": "execute_result"
    }
   ],
   "source": [
    "calc_mus(f, 1)[0]"
   ]
  },
  {
   "cell_type": "code",
   "execution_count": 34,
   "metadata": {},
   "outputs": [
    {
     "data": {
      "text/plain": [
       "array(6.303954641290771)"
      ]
     },
     "execution_count": 34,
     "metadata": {},
     "output_type": "execute_result"
    }
   ],
   "source": [
    "cf = pcf.chebfun(f, N=100)\n",
    "cf.integrate()(1)"
   ]
  },
  {
   "cell_type": "code",
   "execution_count": 35,
   "metadata": {},
   "outputs": [
    {
     "name": "stdout",
     "output_type": "stream",
     "text": [
      "6.30395464129\n"
     ]
    }
   ],
   "source": [
    "v = scipy.integrate.romberg(\n",
    "    f, -1, 1,\n",
    "    rtol=0.0,\n",
    "    tol=1e-10,\n",
    "    vec_func=True,\n",
    "#     show=True\n",
    ")\n",
    "print(v)"
   ]
  },
  {
   "cell_type": "code",
   "execution_count": 36,
   "metadata": {
    "scrolled": true
   },
   "outputs": [
    {
     "name": "stdout",
     "output_type": "stream",
     "text": [
      "6.30395464129\n"
     ]
    }
   ],
   "source": [
    "cs = fit_cpoly(f, 1e-10)\n",
    "fp = p_gen(cs)\n",
    "print(fp.integ(lbnd=-1)(1))"
   ]
  },
  {
   "cell_type": "code",
   "execution_count": 18,
   "metadata": {
    "scrolled": true
   },
   "outputs": [
    {
     "data": {
      "text/plain": [
       "[<matplotlib.lines.Line2D at 0x10fe72588>]"
      ]
     },
     "execution_count": 18,
     "metadata": {},
     "output_type": "execute_result"
    },
    {
     "data": {
      "image/png": "[encoded data removed]",
      "text/plain": [
       "<matplotlib.figure.Figure at 0x10fe4d0b8>"
      ]
     },
     "metadata": {},
     "output_type": "display_data"
    }
   ],
   "source": [
    "plt.figure()\n",
    "xs = np.linspace(-1,1,1000)\n",
    "y1s = f(xs)\n",
    "y2s = fp(xs)\n",
    "plt.plot(xs, y1s, label=\"orig\")\n",
    "plt.plot(xs, y2s, label=\"approx\")"
   ]
  },
  {
   "cell_type": "markdown",
   "metadata": {},
   "source": [
    "# Chebyshev Integrals"
   ]
  },
  {
   "cell_type": "code",
   "execution_count": 5,
   "metadata": {
    "collapsed": true
   },
   "outputs": [],
   "source": [
    "p_gen = np.polynomial.chebyshev.Chebyshev"
   ]
  },
  {
   "cell_type": "code",
   "execution_count": 9,
   "metadata": {
    "collapsed": true
   },
   "outputs": [],
   "source": [
    "cs = np.array([3, 1, 2])"
   ]
  },
  {
   "cell_type": "code",
   "execution_count": 30,
   "metadata": {
    "collapsed": true
   },
   "outputs": [],
   "source": [
    "def integ_cheby_coeffs(cs):\n",
    "    k = len(cs)\n",
    "    ics = np.zeros(k+1)\n",
    "    ics[1] = cs[0]\n",
    "    ics[2] = cs[1] / 4\n",
    "    for i in range(2,k):\n",
    "        ics[i+1] += cs[i]/(2*(i+1))\n",
    "        ics[i-1] -= cs[i]/(2*(i-1))\n",
    "    for i in range(1,k+1):\n",
    "        ics[0] -= (-1)**i*ics[i]\n",
    "    return ics"
   ]
  },
  {
   "cell_type": "code",
   "execution_count": 31,
   "metadata": {},
   "outputs": [
    {
     "data": {
      "text/plain": [
       "array([ 2.08333333,  2.        ,  0.25      ,  0.33333333])"
      ]
     },
     "execution_count": 31,
     "metadata": {},
     "output_type": "execute_result"
    }
   ],
   "source": [
    "integ_cheby_coeffs(cs)"
   ]
  },
  {
   "cell_type": "code",
   "execution_count": 32,
   "metadata": {},
   "outputs": [],
   "source": [
    "cdf2 = p_gen(integ_cheby_coeffs(cs))"
   ]
  },
  {
   "cell_type": "code",
   "execution_count": 34,
   "metadata": {},
   "outputs": [
    {
     "data": {
      "text/plain": [
       "4.666666666666667"
      ]
     },
     "execution_count": 34,
     "metadata": {},
     "output_type": "execute_result"
    }
   ],
   "source": [
    "cdf2(1)"
   ]
  },
  {
   "cell_type": "code",
   "execution_count": 10,
   "metadata": {},
   "outputs": [
    {
     "data": {
      "text/plain": [
       "4.666666666666667"
      ]
     },
     "execution_count": 10,
     "metadata": {},
     "output_type": "execute_result"
    }
   ],
   "source": [
    "cdf = p_gen(cs).integ()\n",
    "cdf(1) - cdf(-1)"
   ]
  },
  {
   "cell_type": "code",
   "execution_count": null,
   "metadata": {
    "collapsed": true
   },
   "outputs": [],
   "source": []
  }
 ],
 "metadata": {
  "kernelspec": {
   "display_name": "Python 3",
   "language": "python",
   "name": "python3"
  },
  "language_info": {
   "codemirror_mode": {
    "name": "ipython",
    "version": 3
   },
   "file_extension": ".py",
   "mimetype": "text/x-python",
   "name": "python",
   "nbconvert_exporter": "python",
   "pygments_lexer": "ipython3",
   "version": "3.6.2"
  }
 },
 "nbformat": 4,
 "nbformat_minor": 2
}
